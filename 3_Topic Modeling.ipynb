{
 "cells": [
  {
   "cell_type": "code",
   "execution_count": 1,
   "metadata": {},
   "outputs": [
    {
     "name": "stdout",
     "output_type": "stream",
     "text": [
      "Populating the interactive namespace from numpy and matplotlib\n"
     ]
    }
   ],
   "source": [
    "import statsmodels.api as sm\n",
    "import pandas as pd\n",
    "import re,string\n",
    "import nltk\n",
    "from patsy import dmatrices\n",
    "from nltk.corpus import stopwords\n",
    "from nltk.probability import FreqDist\n",
    "from nltk.stem import WordNetLemmatizer\n",
    "from nltk.corpus import wordnet as wn\n",
    "from nltk.corpus import wordnet\n",
    "from nltk.tokenize import sent_tokenize, word_tokenize\n",
    "import matplotlib.pyplot as plt\n",
    "import warnings\n",
    "%pylab inline\n",
    "import numpy as np\n",
    "from sklearn.manifold import MDS\n",
    "from sklearn.metrics import euclidean_distances\n",
    "import spacy"
   ]
  },
  {
   "cell_type": "markdown",
   "metadata": {},
   "source": [
    "## starting with Amazon"
   ]
  },
  {
   "cell_type": "code",
   "execution_count": 2,
   "metadata": {},
   "outputs": [],
   "source": [
    "df_ibm = pd.read_csv('ibm.csv', encoding=\"iso-8859-1\")"
   ]
  },
  {
   "cell_type": "code",
   "execution_count": 3,
   "metadata": {},
   "outputs": [
    {
     "data": {
      "text/html": [
       "<div>\n",
       "<style scoped>\n",
       "    .dataframe tbody tr th:only-of-type {\n",
       "        vertical-align: middle;\n",
       "    }\n",
       "\n",
       "    .dataframe tbody tr th {\n",
       "        vertical-align: top;\n",
       "    }\n",
       "\n",
       "    .dataframe thead th {\n",
       "        text-align: right;\n",
       "    }\n",
       "</style>\n",
       "<table border=\"1\" class=\"dataframe\">\n",
       "  <thead>\n",
       "    <tr style=\"text-align: right;\">\n",
       "      <th></th>\n",
       "      <th>Title</th>\n",
       "      <th>Date Written</th>\n",
       "      <th>Rating</th>\n",
       "      <th>Current/Former</th>\n",
       "      <th>Job Title</th>\n",
       "      <th>Location</th>\n",
       "      <th>Recommendation?</th>\n",
       "      <th>Outlook</th>\n",
       "      <th>Main Text</th>\n",
       "      <th>Pros</th>\n",
       "      <th>Cons</th>\n",
       "      <th>Advice to management</th>\n",
       "    </tr>\n",
       "  </thead>\n",
       "  <tbody>\n",
       "    <tr>\n",
       "      <th>0</th>\n",
       "      <td>\"Offering Manager\"</td>\n",
       "      <td>no-date</td>\n",
       "      <td>5.0</td>\n",
       "      <td>Current Employee</td>\n",
       "      <td>Offering Manager</td>\n",
       "      <td>Westbury, NY</td>\n",
       "      <td>Recommends</td>\n",
       "      <td>Neutral Outlook</td>\n",
       "      <td>I have been working at IBM full-time (More tha...</td>\n",
       "      <td>IBM is good to their employees</td>\n",
       "      <td>Lacks strategy in certain areas of the business</td>\n",
       "      <td>NaN</td>\n",
       "    </tr>\n",
       "    <tr>\n",
       "      <th>1</th>\n",
       "      <td>\"Senior Software Engineer\"</td>\n",
       "      <td>no-date</td>\n",
       "      <td>4.0</td>\n",
       "      <td>Former Employee</td>\n",
       "      <td>Anonymous Employee</td>\n",
       "      <td>NaN</td>\n",
       "      <td>NaN</td>\n",
       "      <td>NaN</td>\n",
       "      <td>I worked at IBM full-time</td>\n",
       "      <td>laid back atmosphere with great work life balance</td>\n",
       "      <td>upper management pushes out middle management ...</td>\n",
       "      <td>NaN</td>\n",
       "    </tr>\n",
       "    <tr>\n",
       "      <th>2</th>\n",
       "      <td>\"Great Company, excellent management\"</td>\n",
       "      <td>no-date</td>\n",
       "      <td>4.0</td>\n",
       "      <td>Former Employee</td>\n",
       "      <td>Anonymous Employee</td>\n",
       "      <td>NaN</td>\n",
       "      <td>Recommends</td>\n",
       "      <td>Positive Outlook</td>\n",
       "      <td>I worked at IBM full-time</td>\n",
       "      <td>Lot of empowerment. I was given really good wo...</td>\n",
       "      <td>As per the public news, IBM had yearly layoffs...</td>\n",
       "      <td>NaN</td>\n",
       "    </tr>\n",
       "    <tr>\n",
       "      <th>3</th>\n",
       "      <td>\"IBM\"</td>\n",
       "      <td>Nov 4, 2018</td>\n",
       "      <td>5.0</td>\n",
       "      <td>Former Employee</td>\n",
       "      <td>Various</td>\n",
       "      <td>Austin, TX</td>\n",
       "      <td>Recommends</td>\n",
       "      <td>Neutral Outlook</td>\n",
       "      <td>I worked at IBM full-time (More than 10 years)</td>\n",
       "      <td>Interesting work, opportunities to work on div...</td>\n",
       "      <td>Not sure if pay is industry-competitive</td>\n",
       "      <td>Review salary structure to ensure industry com...</td>\n",
       "    </tr>\n",
       "    <tr>\n",
       "      <th>4</th>\n",
       "      <td>\"Not amenable\"</td>\n",
       "      <td>no-date</td>\n",
       "      <td>5.0</td>\n",
       "      <td>Former Employee</td>\n",
       "      <td>Anonymous Employee</td>\n",
       "      <td>NaN</td>\n",
       "      <td>Doesn't Recommend</td>\n",
       "      <td>Neutral Outlook</td>\n",
       "      <td>No opinion of CEO</td>\n",
       "      <td>Tools were always cutting edge</td>\n",
       "      <td>would have been nice to know evaluation criteria</td>\n",
       "      <td>Get to know your employees who actually are in...</td>\n",
       "    </tr>\n",
       "  </tbody>\n",
       "</table>\n",
       "</div>"
      ],
      "text/plain": [
       "                                   Title Date Written  Rating  \\\n",
       "0                     \"Offering Manager\"      no-date     5.0   \n",
       "1             \"Senior Software Engineer\"      no-date     4.0   \n",
       "2  \"Great Company, excellent management\"      no-date     4.0   \n",
       "3                                  \"IBM\"  Nov 4, 2018     5.0   \n",
       "4                         \"Not amenable\"      no-date     5.0   \n",
       "\n",
       "     Current/Former           Job Title      Location    Recommendation?  \\\n",
       "0  Current Employee    Offering Manager  Westbury, NY         Recommends   \n",
       "1   Former Employee  Anonymous Employee           NaN                NaN   \n",
       "2   Former Employee  Anonymous Employee           NaN         Recommends   \n",
       "3   Former Employee             Various    Austin, TX         Recommends   \n",
       "4   Former Employee  Anonymous Employee           NaN  Doesn't Recommend   \n",
       "\n",
       "            Outlook                                          Main Text  \\\n",
       "0   Neutral Outlook  I have been working at IBM full-time (More tha...   \n",
       "1               NaN                          I worked at IBM full-time   \n",
       "2  Positive Outlook                          I worked at IBM full-time   \n",
       "3   Neutral Outlook     I worked at IBM full-time (More than 10 years)   \n",
       "4   Neutral Outlook                                  No opinion of CEO   \n",
       "\n",
       "                                                Pros  \\\n",
       "0                     IBM is good to their employees   \n",
       "1  laid back atmosphere with great work life balance   \n",
       "2  Lot of empowerment. I was given really good wo...   \n",
       "3  Interesting work, opportunities to work on div...   \n",
       "4                     Tools were always cutting edge   \n",
       "\n",
       "                                                Cons  \\\n",
       "0    Lacks strategy in certain areas of the business   \n",
       "1  upper management pushes out middle management ...   \n",
       "2  As per the public news, IBM had yearly layoffs...   \n",
       "3            Not sure if pay is industry-competitive   \n",
       "4   would have been nice to know evaluation criteria   \n",
       "\n",
       "                                Advice to management  \n",
       "0                                                NaN  \n",
       "1                                                NaN  \n",
       "2                                                NaN  \n",
       "3  Review salary structure to ensure industry com...  \n",
       "4  Get to know your employees who actually are in...  "
      ]
     },
     "execution_count": 3,
     "metadata": {},
     "output_type": "execute_result"
    }
   ],
   "source": [
    "df_ibm.head()"
   ]
  },
  {
   "cell_type": "code",
   "execution_count": 4,
   "metadata": {},
   "outputs": [
    {
     "data": {
      "text/plain": [
       "(10000, 12)"
      ]
     },
     "execution_count": 4,
     "metadata": {},
     "output_type": "execute_result"
    }
   ],
   "source": [
    "df_ibm.shape"
   ]
  },
  {
   "cell_type": "code",
   "execution_count": 5,
   "metadata": {},
   "outputs": [],
   "source": [
    "pros = pd.DataFrame(df_ibm['Pros'], index= df_ibm.index)\n",
    "cons = pd.DataFrame(df_ibm['Cons'],  index= df_ibm.index)"
   ]
  },
  {
   "cell_type": "code",
   "execution_count": 6,
   "metadata": {},
   "outputs": [],
   "source": [
    "pros.dropna(axis=0, inplace=True)\n",
    "cons.dropna(axis=0, inplace=True)"
   ]
  },
  {
   "cell_type": "code",
   "execution_count": 7,
   "metadata": {},
   "outputs": [],
   "source": [
    "def clean_tokenize(s):\n",
    "    stop = set(stopwords.words('english'))\n",
    "    punc = string.punctuation\n",
    "    s = re.sub(r'[^\\w\\s]', '',s.lower())\n",
    "    return([word for word in word_tokenize(s) if word not in stop if word not in punc])\n",
    "def get_lemma(word):\n",
    "    lemma = wn.morphy(word)\n",
    "    if lemma is None:\n",
    "        return word\n",
    "    else:\n",
    "        return lemma\n",
    "def get_lemma2(word):\n",
    "    return WordNetLemmatizer().lemmatize(word)\n",
    "def lemmatize(my_tokens):\n",
    "    \"\"\"Function to enable data preparation for topic modeling using LDA, \n",
    "    includes removing stop words, lemmatization, tokenization\"\"\"\n",
    "    my_tokens = [get_lemma(token) for token in my_tokens]\n",
    "    return my_tokens"
   ]
  },
  {
   "cell_type": "code",
   "execution_count": 8,
   "metadata": {},
   "outputs": [],
   "source": [
    "def dataprep(text_data_df):\n",
    "    pros = pd.DataFrame(text_data_df['Pros'], index= text_data_df.index)\n",
    "    cons = pd.DataFrame(text_data_df['Cons'],  index= text_data_df.index)\n",
    "    pros.dropna(axis=0, inplace=True)\n",
    "    cons.dropna(axis=0, inplace=True)\n",
    "    stop = set(stopwords.words('english'))\n",
    "    punc = string.punctuation\n",
    "    \n",
    "    pros['pros_tokens'] =pros.Pros.map(clean_tokenize)\n",
    "    cons['cons_tokens'] =cons.Cons.map(clean_tokenize)\n",
    "    #my_tokens = [get_lemma(token) for token in my_tokens]\n",
    "    pros['pros_lemma_tokens'] = pros['pros_tokens'].apply(lemmatize)\n",
    "    #pros['pros_lemma_tokens'] = [get_lemma(token) for token in pros['pros_tokens']]\n",
    "    cons['cons_lemma_tokens'] = cons['cons_tokens'].apply(lemmatize)\n",
    "    return pros, cons "
   ]
  },
  {
   "cell_type": "code",
   "execution_count": 10,
   "metadata": {},
   "outputs": [],
   "source": [
    "from gensim import corpora\n",
    "dictionary = corpora.Dictionary(pros['pros_tokens'])\n",
    "corpus = [dictionary.doc2bow(text) for text in pros['pros_tokens']]\n",
    "import pickle\n",
    "pickle.dump(corpus, open('corpus.pkl', 'wb'))\n",
    "dictionary.save('dictionary.gensim')"
   ]
  },
  {
   "cell_type": "code",
   "execution_count": 11,
   "metadata": {},
   "outputs": [
    {
     "name": "stdout",
     "output_type": "stream",
     "text": [
      "(0, u'0.046*\"ibm\" + 0.029*\"good\" + 0.017*\"company\" + 0.013*\"years\"')\n",
      "(1, u'0.073*\"people\" + 0.034*\"great\" + 0.032*\"work\" + 0.024*\"smart\"')\n",
      "(2, u'0.130*\"work\" + 0.091*\"good\" + 0.044*\"benefits\" + 0.042*\"home\"')\n",
      "(3, u'0.112*\"great\" + 0.054*\"work\" + 0.035*\"place\" + 0.034*\"good\"')\n",
      "(4, u'0.023*\"company\" + 0.022*\"opportunities\" + 0.020*\"technology\" + 0.019*\"new\"')\n"
     ]
    }
   ],
   "source": [
    "import gensim\n",
    "NUM_TOPICS = 5\n",
    "ldamodel = gensim.models.ldamodel.LdaModel(corpus, num_topics = NUM_TOPICS, id2word=dictionary, passes=15)\n",
    "ldamodel.save('model5.gensim')\n",
    "topics = ldamodel.print_topics(num_words=4)\n",
    "for topic in topics:\n",
    "    print(topic)"
   ]
  },
  {
   "cell_type": "markdown",
   "metadata": {},
   "source": [
    "#### TM for cons"
   ]
  },
  {
   "cell_type": "code",
   "execution_count": 12,
   "metadata": {},
   "outputs": [],
   "source": [
    "pros_ibm, cons_ibm = dataprep(df_ibm)"
   ]
  },
  {
   "cell_type": "code",
   "execution_count": 13,
   "metadata": {},
   "outputs": [
    {
     "data": {
      "text/html": [
       "<div>\n",
       "<style scoped>\n",
       "    .dataframe tbody tr th:only-of-type {\n",
       "        vertical-align: middle;\n",
       "    }\n",
       "\n",
       "    .dataframe tbody tr th {\n",
       "        vertical-align: top;\n",
       "    }\n",
       "\n",
       "    .dataframe thead th {\n",
       "        text-align: right;\n",
       "    }\n",
       "</style>\n",
       "<table border=\"1\" class=\"dataframe\">\n",
       "  <thead>\n",
       "    <tr style=\"text-align: right;\">\n",
       "      <th></th>\n",
       "      <th>Pros</th>\n",
       "      <th>pros_tokens</th>\n",
       "      <th>pros_lemma_tokens</th>\n",
       "    </tr>\n",
       "  </thead>\n",
       "  <tbody>\n",
       "    <tr>\n",
       "      <th>0</th>\n",
       "      <td>IBM is good to their employees</td>\n",
       "      <td>[ibm, good, employees]</td>\n",
       "      <td>[ibm, good, employee]</td>\n",
       "    </tr>\n",
       "    <tr>\n",
       "      <th>1</th>\n",
       "      <td>laid back atmosphere with great work life balance</td>\n",
       "      <td>[laid, back, atmosphere, great, work, life, ba...</td>\n",
       "      <td>[lay, back, atmosphere, great, work, life, bal...</td>\n",
       "    </tr>\n",
       "    <tr>\n",
       "      <th>2</th>\n",
       "      <td>Lot of empowerment. I was given really good wo...</td>\n",
       "      <td>[lot, empowerment, given, really, good, work, ...</td>\n",
       "      <td>[lot, empowerment, given, really, good, work, ...</td>\n",
       "    </tr>\n",
       "    <tr>\n",
       "      <th>3</th>\n",
       "      <td>Interesting work, opportunities to work on div...</td>\n",
       "      <td>[interesting, work, opportunities, work, diver...</td>\n",
       "      <td>[interest, work, opportunity, work, diverse, p...</td>\n",
       "    </tr>\n",
       "    <tr>\n",
       "      <th>4</th>\n",
       "      <td>Tools were always cutting edge</td>\n",
       "      <td>[tools, always, cutting, edge]</td>\n",
       "      <td>[tool, always, cutting, edge]</td>\n",
       "    </tr>\n",
       "  </tbody>\n",
       "</table>\n",
       "</div>"
      ],
      "text/plain": [
       "                                                Pros  \\\n",
       "0                     IBM is good to their employees   \n",
       "1  laid back atmosphere with great work life balance   \n",
       "2  Lot of empowerment. I was given really good wo...   \n",
       "3  Interesting work, opportunities to work on div...   \n",
       "4                     Tools were always cutting edge   \n",
       "\n",
       "                                         pros_tokens  \\\n",
       "0                             [ibm, good, employees]   \n",
       "1  [laid, back, atmosphere, great, work, life, ba...   \n",
       "2  [lot, empowerment, given, really, good, work, ...   \n",
       "3  [interesting, work, opportunities, work, diver...   \n",
       "4                     [tools, always, cutting, edge]   \n",
       "\n",
       "                                   pros_lemma_tokens  \n",
       "0                              [ibm, good, employee]  \n",
       "1  [lay, back, atmosphere, great, work, life, bal...  \n",
       "2  [lot, empowerment, given, really, good, work, ...  \n",
       "3  [interest, work, opportunity, work, diverse, p...  \n",
       "4                      [tool, always, cutting, edge]  "
      ]
     },
     "execution_count": 13,
     "metadata": {},
     "output_type": "execute_result"
    }
   ],
   "source": [
    "pros_ibm.head()"
   ]
  },
  {
   "cell_type": "code",
   "execution_count": 14,
   "metadata": {},
   "outputs": [
    {
     "data": {
      "text/html": [
       "<div>\n",
       "<style scoped>\n",
       "    .dataframe tbody tr th:only-of-type {\n",
       "        vertical-align: middle;\n",
       "    }\n",
       "\n",
       "    .dataframe tbody tr th {\n",
       "        vertical-align: top;\n",
       "    }\n",
       "\n",
       "    .dataframe thead th {\n",
       "        text-align: right;\n",
       "    }\n",
       "</style>\n",
       "<table border=\"1\" class=\"dataframe\">\n",
       "  <thead>\n",
       "    <tr style=\"text-align: right;\">\n",
       "      <th></th>\n",
       "      <th>Cons</th>\n",
       "      <th>cons_tokens</th>\n",
       "      <th>cons_lemma_tokens</th>\n",
       "    </tr>\n",
       "  </thead>\n",
       "  <tbody>\n",
       "    <tr>\n",
       "      <th>0</th>\n",
       "      <td>Lacks strategy in certain areas of the business</td>\n",
       "      <td>[lacks, strategy, certain, areas, business]</td>\n",
       "      <td>[lack, strategy, certain, area, business]</td>\n",
       "    </tr>\n",
       "    <tr>\n",
       "      <th>1</th>\n",
       "      <td>upper management pushes out middle management ...</td>\n",
       "      <td>[upper, management, pushes, middle, management...</td>\n",
       "      <td>[upper, management, push, middle, management, ...</td>\n",
       "    </tr>\n",
       "    <tr>\n",
       "      <th>2</th>\n",
       "      <td>As per the public news, IBM had yearly layoffs...</td>\n",
       "      <td>[per, public, news, ibm, yearly, layoffs, bit,...</td>\n",
       "      <td>[per, public, news, ibm, yearly, layoff, bit, ...</td>\n",
       "    </tr>\n",
       "    <tr>\n",
       "      <th>3</th>\n",
       "      <td>Not sure if pay is industry-competitive</td>\n",
       "      <td>[sure, pay, industrycompetitive]</td>\n",
       "      <td>[sure, pay, industrycompetitive]</td>\n",
       "    </tr>\n",
       "    <tr>\n",
       "      <th>4</th>\n",
       "      <td>would have been nice to know evaluation criteria</td>\n",
       "      <td>[would, nice, know, evaluation, criteria]</td>\n",
       "      <td>[would, nice, know, evaluation, criterion]</td>\n",
       "    </tr>\n",
       "  </tbody>\n",
       "</table>\n",
       "</div>"
      ],
      "text/plain": [
       "                                                Cons  \\\n",
       "0    Lacks strategy in certain areas of the business   \n",
       "1  upper management pushes out middle management ...   \n",
       "2  As per the public news, IBM had yearly layoffs...   \n",
       "3            Not sure if pay is industry-competitive   \n",
       "4   would have been nice to know evaluation criteria   \n",
       "\n",
       "                                         cons_tokens  \\\n",
       "0        [lacks, strategy, certain, areas, business]   \n",
       "1  [upper, management, pushes, middle, management...   \n",
       "2  [per, public, news, ibm, yearly, layoffs, bit,...   \n",
       "3                   [sure, pay, industrycompetitive]   \n",
       "4          [would, nice, know, evaluation, criteria]   \n",
       "\n",
       "                                   cons_lemma_tokens  \n",
       "0          [lack, strategy, certain, area, business]  \n",
       "1  [upper, management, push, middle, management, ...  \n",
       "2  [per, public, news, ibm, yearly, layoff, bit, ...  \n",
       "3                   [sure, pay, industrycompetitive]  \n",
       "4         [would, nice, know, evaluation, criterion]  "
      ]
     },
     "execution_count": 14,
     "metadata": {},
     "output_type": "execute_result"
    }
   ],
   "source": [
    "cons_ibm.head()"
   ]
  },
  {
   "cell_type": "markdown",
   "metadata": {},
   "source": [
    "### Defining generalized functions for TM"
   ]
  },
  {
   "cell_type": "code",
   "execution_count": 15,
   "metadata": {},
   "outputs": [],
   "source": [
    "def topics_reveal(pros_df, cons_df, num_topics = 5, num_words = 4):\n",
    "    dictionary = corpora.Dictionary(pros_df['pros_lemma_tokens'])\n",
    "    corpus = [dictionary.doc2bow(text) for text in pros_df['pros_lemma_tokens']]\n",
    "    pickle.dump(corpus, open('corpus_pros.pkl', 'wb'))\n",
    "    NUM_TOPICS = num_topics\n",
    "    ldamodel = gensim.models.ldamodel.LdaModel(corpus, num_topics = NUM_TOPICS, id2word=dictionary, passes=15)\n",
    "    topics_pros = ldamodel.print_topics(num_words=4)\n",
    "    print(\" For Pros, 5 topics are defined as follows: \")\n",
    "    for topic in topics_pros:\n",
    "        print(topic)\n",
    "        \n",
    "    dictionary = corpora.Dictionary(cons_df['cons_lemma_tokens'])\n",
    "    corpus = [dictionary.doc2bow(text) for text in cons_df['cons_lemma_tokens']]\n",
    "    pickle.dump(corpus, open('corpus_cons.pkl', 'wb'))\n",
    "    NUM_TOPICS = num_topics\n",
    "    ldamodel = gensim.models.ldamodel.LdaModel(corpus, num_topics = NUM_TOPICS, id2word=dictionary, passes=15)\n",
    "    topics_cons = ldamodel.print_topics(num_words=num_words)\n",
    "    print(\" For Cons, 5 topics are defined as follows: \")\n",
    "    for topic in topics_cons:\n",
    "        print(topic)\n",
    "    return topics_pros, topics_cons"
   ]
  },
  {
   "cell_type": "code",
   "execution_count": 16,
   "metadata": {
    "scrolled": true
   },
   "outputs": [
    {
     "name": "stdout",
     "output_type": "stream",
     "text": [
      " For Pros, 5 topics are defined as follows: \n",
      "(0, u'0.097*\"company\" + 0.045*\"opportunity\" + 0.030*\"great\" + 0.024*\"learn\"')\n",
      "(1, u'0.136*\"work\" + 0.096*\"good\" + 0.053*\"great\" + 0.051*\"benefit\"')\n",
      "(2, u'0.033*\"opportunity\" + 0.025*\"training\" + 0.019*\"great\" + 0.017*\"experience\"')\n",
      "(3, u'0.112*\"people\" + 0.042*\"smart\" + 0.039*\"great\" + 0.030*\"technology\"')\n",
      "(4, u'0.050*\"ibm\" + 0.033*\"work\" + 0.017*\"get\" + 0.012*\"best\"')\n",
      " For Cons, 5 topics are defined as follows: \n",
      "(0, u'0.028*\"management\" + 0.025*\"salary\" + 0.022*\"poor\" + 0.018*\"low\"')\n",
      "(1, u'0.022*\"company\" + 0.019*\"pay\" + 0.019*\"people\" + 0.018*\"ibm\"')\n",
      "(2, u'0.029*\"ibm\" + 0.029*\"company\" + 0.019*\"job\" + 0.015*\"get\"')\n",
      "(3, u'0.027*\"management\" + 0.025*\"change\" + 0.024*\"company\" + 0.020*\"process\"')\n",
      "(4, u'0.042*\"work\" + 0.023*\"employee\" + 0.018*\"long\" + 0.016*\"hours\"')\n"
     ]
    }
   ],
   "source": [
    "t = topics_reveal(pros_ibm, cons_ibm)"
   ]
  },
  {
   "cell_type": "markdown",
   "metadata": {},
   "source": [
    "### Pros: They talk about great training and opportunity. And IBM leverage smart people and advance technology\n",
    "### Cons: Some complains about the salary and issue about the managing process."
   ]
  },
  {
   "cell_type": "code",
   "execution_count": null,
   "metadata": {},
   "outputs": [],
   "source": []
  }
 ],
 "metadata": {
  "kernelspec": {
   "display_name": "Python [conda env:py36]",
   "language": "python",
   "name": "conda-env-py36-py"
  },
  "language_info": {
   "codemirror_mode": {
    "name": "ipython",
    "version": 2
   },
   "file_extension": ".py",
   "mimetype": "text/x-python",
   "name": "python",
   "nbconvert_exporter": "python",
   "pygments_lexer": "ipython2",
   "version": "2.7.15"
  }
 },
 "nbformat": 4,
 "nbformat_minor": 2
}
